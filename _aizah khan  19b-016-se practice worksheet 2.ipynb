{
 "cells": [
  {
   "cell_type": "code",
   "execution_count": 42,
   "metadata": {},
   "outputs": [
    {
     "name": "stdout",
     "output_type": "stream",
     "text": [
      "The remaining shape area is: -321.46018366025515\n"
     ]
    }
   ],
   "source": [
    "#question 18:\n",
    "#time taken: 10 min\n",
    "def return_remaining_shape_area():\n",
    "    from math import pi\n",
    "#supposing lenghth of one side of square\n",
    "    s=20\n",
    "    area1=int(s**2)\n",
    "#supposing radius of circle\n",
    "    r=5\n",
    "    area2=pi*r**2\n",
    "#for remaining shape area\n",
    "    if area1>area2:\n",
    "        (area1-area2)\n",
    "    elif area2<=area1:\n",
    "        (area2-area1)\n",
    "    else:\n",
    "        pass\n",
    "    remaining_shape_area=area2-area1\n",
    "    print(\"The remaining shape area is:\" , remaining_shape_area)\n",
    "return_remaining_shape_area()\n"
   ]
  },
  {
   "cell_type": "code",
   "execution_count": 13,
   "metadata": {},
   "outputs": [
    {
     "name": "stdout",
     "output_type": "stream",
     "text": [
      "Input the base : 2\n",
      "Input the height : 3\n",
      "area =  3.0\n"
     ]
    }
   ],
   "source": [
    "#question 16\n",
    "#time taken 2min\n",
    "def area_of_triangle():\n",
    "    b = int(input(\"Input the base : \"))\n",
    "    h = int(input(\"Input the height : \"))\n",
    "\n",
    "    area = b*h/2\n",
    "\n",
    "    print(\"area = \", area)\n",
    "area_of_triangle()"
   ]
  },
  {
   "cell_type": "code",
   "execution_count": 20,
   "metadata": {},
   "outputs": [
    {
     "name": "stdout",
     "output_type": "stream",
     "text": [
      "Original String :  20\n",
      "No. of Upper case letters :  5\n",
      "No. of Lower case letters :  12\n"
     ]
    }
   ],
   "source": [
    "#question 13\n",
    "#time taken 20 min\n",
    "def my_string(y):\n",
    "    x={\"UPPER_CASE\":0, \"LOWER_CASE\":0}\n",
    "    for c in y:\n",
    "        if c.isupper():\n",
    "            x[\"UPPER_CASE\"]+=1\n",
    "        elif c.islower():\n",
    "            x[\"LOWER_CASE\"]+=1\n",
    "        else:\n",
    "            pass\n",
    "    print (\"Original String : \", s)\n",
    "    print (\"No. of Upper case letters : \", x[\"UPPER_CASE\"])\n",
    "    print (\"No. of Lower case letters : \", x[\"LOWER_CASE\"])\n",
    "\n",
    "my_string('My Name Is Aizah Khan')\n"
   ]
  },
  {
   "cell_type": "code",
   "execution_count": 32,
   "metadata": {},
   "outputs": [
    {
     "name": "stdout",
     "output_type": "stream",
     "text": [
      "Input radius of circle 1 : 5\n",
      "Input radius of circle 2 : 6\n",
      "remaining shape area:  34.55751918948772\n"
     ]
    }
   ],
   "source": [
    "#question 12\n",
    "#time taken 7 min\n",
    "def area_of_remaining_circle():\n",
    "    from math import pi\n",
    "    r1 = int(input(\"Input radius of circle 1 : \"))\n",
    "    r2 = int(input(\"Input radius of circle 2 : \"))\n",
    "    area1=pi*r1**2\n",
    "    area2=pi*r2**2\n",
    "    if r1>r2:\n",
    "        x(r1-r2)\n",
    "    elif r2<=r1:\n",
    "        x(r2-r1)\n",
    "    else:\n",
    "        pass\n",
    "    remaining_shape_area=area2-area1\n",
    "\n",
    "    print(\"remaining shape area: \", remaining_shape_area)\n",
    "area_of_remaining_circle()"
   ]
  },
  {
   "cell_type": "code",
   "execution_count": 44,
   "metadata": {},
   "outputs": [
    {
     "name": "stdout",
     "output_type": "stream",
     "text": [
      "['danceing', 'runing', 'eating', 'chilling']\n"
     ]
    }
   ],
   "source": [
    "#question 11\n",
    "def continuos():\n",
    "    verb=['dance' ,'run', 'eat' ,'chill' ]\n",
    "    x=['' ,'' ,'' , '']\n",
    "    for i in range(4):\n",
    "        k = 0\n",
    "    for y in verb:\n",
    "        x[k]=y+\"ing\"\n",
    "        k= k+1\n",
    "    print(x)\n",
    "continuos()\n",
    "    "
   ]
  },
  {
   "cell_type": "code",
   "execution_count": 41,
   "metadata": {},
   "outputs": [
    {
     "name": "stdout",
     "output_type": "stream",
     "text": [
      "Input length of rectangle 1 : 2\n",
      "Input breath of rectangle 1: 3\n",
      "input length of rectangle 2 : 2\n",
      "input breath of rectangle 2 : 4\n",
      "remaining area:  2\n"
     ]
    }
   ],
   "source": [
    "#question 14\n",
    "# time taken 5 min\n",
    "def area_remaining():\n",
    "    from math import pi\n",
    "    l1 = int(input(\"Input length of rectangle 1 : \"))\n",
    "    b1 = int(input(\"Input breath of rectangle 1: \"))\n",
    "    l2 = int(input(\"input length of rectangle 2 : \"))\n",
    "    b2 = int(input(\"input breath of rectangle 2 : \"))\n",
    "    a1=l1*b1\n",
    "    a2=l2*b2\n",
    "    if a1>a2:\n",
    "        (a1-a2)\n",
    "    elif a2<=a1:\n",
    "        (a2-a1)\n",
    "    else:\n",
    "        pass\n",
    "    remaining_area=a2-a1\n",
    "\n",
    "    print(\"remaining area: \", remaining_area)\n",
    "area_remaining()"
   ]
  },
  {
   "cell_type": "code",
   "execution_count": 68,
   "metadata": {},
   "outputs": [
    {
     "ename": "IndentationError",
     "evalue": "unexpected indent (<ipython-input-68-703e3252768d>, line 4)",
     "output_type": "error",
     "traceback": [
      "\u001b[1;36m  File \u001b[1;32m\"<ipython-input-68-703e3252768d>\"\u001b[1;36m, line \u001b[1;32m4\u001b[0m\n\u001b[1;33m    sum=0\u001b[0m\n\u001b[1;37m    ^\u001b[0m\n\u001b[1;31mIndentationError\u001b[0m\u001b[1;31m:\u001b[0m unexpected indent\n"
     ]
    }
   ],
   "source": [
    "#question 15\n",
    "#time taken 30min\n",
    "def add_fraction_in_series():\n",
    "     import fraction\n",
    "        sum=0\n",
    "        for i in range(4,7):\n",
    "        sum = sum + fraction(l,i)\n",
    "        print(sum)\n",
    "add_fraction_in_series()"
   ]
  },
  {
   "cell_type": "code",
   "execution_count": 52,
   "metadata": {},
   "outputs": [
    {
     "name": "stdout",
     "output_type": "stream",
     "text": [
      "The area of shaded triangle is: 1.4292036732051034\n"
     ]
    }
   ],
   "source": [
    "#question 1\n",
    "#time taken 8 min\n",
    "def areaoftriangle():\n",
    "    from math import sqrt\n",
    "    side=3\n",
    "    area_of_tri=int((side**2)*sqrt(3)/4)\n",
    "    r=1.5\n",
    "    from math import pi\n",
    "    theta=pi/3\n",
    "    s=r*theta\n",
    "    shaded_area=area_of_tri-s\n",
    "    print(\"The area of shaded triangle is:\" , shaded_area )\n",
    "areaoftriangle()"
   ]
  },
  {
   "cell_type": "code",
   "execution_count": 69,
   "metadata": {},
   "outputs": [
    {
     "name": "stdout",
     "output_type": "stream",
     "text": [
      "Input a list of even numbers: (2,4,6,8,10)\n"
     ]
    },
    {
     "ename": "AttributeError",
     "evalue": "'tuple' object has no attribute 'split'",
     "output_type": "error",
     "traceback": [
      "\u001b[1;31m---------------------------------------------------------------------------\u001b[0m",
      "\u001b[1;31mAttributeError\u001b[0m                            Traceback (most recent call last)",
      "\u001b[1;32m<ipython-input-69-ab953240d2f5>\u001b[0m in \u001b[0;36m<module>\u001b[1;34m\u001b[0m\n\u001b[0;32m      9\u001b[0m          \u001b[1;32melse\u001b[0m\u001b[1;33m:\u001b[0m\u001b[1;33m\u001b[0m\u001b[1;33m\u001b[0m\u001b[0m\n\u001b[0;32m     10\u001b[0m             \u001b[0mprint\u001b[0m\u001b[1;33m(\u001b[0m\u001b[1;34m\"sorry no even number.\"\u001b[0m\u001b[1;33m)\u001b[0m\u001b[1;33m\u001b[0m\u001b[1;33m\u001b[0m\u001b[0m\n\u001b[1;32m---> 11\u001b[1;33m \u001b[0mlisty\u001b[0m\u001b[1;33m(\u001b[0m\u001b[1;33m)\u001b[0m\u001b[1;33m\u001b[0m\u001b[1;33m\u001b[0m\u001b[0m\n\u001b[0m",
      "\u001b[1;32m<ipython-input-69-ab953240d2f5>\u001b[0m in \u001b[0;36mlisty\u001b[1;34m()\u001b[0m\n\u001b[0;32m      3\u001b[0m \u001b[1;32mdef\u001b[0m \u001b[0mlisty\u001b[0m\u001b[1;33m(\u001b[0m\u001b[1;33m)\u001b[0m\u001b[1;33m:\u001b[0m\u001b[1;33m\u001b[0m\u001b[1;33m\u001b[0m\u001b[0m\n\u001b[0;32m      4\u001b[0m     \u001b[0mnum\u001b[0m\u001b[1;33m=\u001b[0m\u001b[0meval\u001b[0m\u001b[1;33m(\u001b[0m\u001b[0minput\u001b[0m\u001b[1;33m(\u001b[0m\u001b[1;34m\"Input a list of even numbers: \"\u001b[0m\u001b[1;33m)\u001b[0m\u001b[1;33m)\u001b[0m\u001b[1;33m\u001b[0m\u001b[1;33m\u001b[0m\u001b[0m\n\u001b[1;32m----> 5\u001b[1;33m     \u001b[0mnum\u001b[0m\u001b[1;33m=\u001b[0m\u001b[0mnum\u001b[0m\u001b[1;33m.\u001b[0m\u001b[0msplit\u001b[0m\u001b[1;33m(\u001b[0m\u001b[1;33m)\u001b[0m\u001b[1;33m\u001b[0m\u001b[1;33m\u001b[0m\u001b[0m\n\u001b[0m\u001b[0;32m      6\u001b[0m     \u001b[1;32mfor\u001b[0m \u001b[0mi\u001b[0m \u001b[1;32min\u001b[0m \u001b[0mnum\u001b[0m\u001b[1;33m:\u001b[0m\u001b[1;33m\u001b[0m\u001b[1;33m\u001b[0m\u001b[0m\n\u001b[0;32m      7\u001b[0m          \u001b[1;32mif\u001b[0m \u001b[0mi\u001b[0m \u001b[1;33m%\u001b[0m \u001b[1;36m2\u001b[0m \u001b[1;33m==\u001b[0m \u001b[1;36m0\u001b[0m\u001b[1;33m:\u001b[0m\u001b[1;33m\u001b[0m\u001b[1;33m\u001b[0m\u001b[0m\n",
      "\u001b[1;31mAttributeError\u001b[0m: 'tuple' object has no attribute 'split'"
     ]
    }
   ],
   "source": [
    "#question 4\n",
    "#time taken \n",
    "def listy():\n",
    "    num=eval(input(\"Input a list of even numbers: \"))\n",
    "    num=num.split()\n",
    "    for i in num:\n",
    "         if i % 2 == 0:\n",
    "            sum(i)\n",
    "         else:\n",
    "            print(\"sorry no even number.\")\n",
    "listy()"
   ]
  },
  {
   "cell_type": "code",
   "execution_count": 55,
   "metadata": {},
   "outputs": [
    {
     "name": "stdout",
     "output_type": "stream",
     "text": [
      "The area of shaded triangle is: 7.643805509807655\n"
     ]
    }
   ],
   "source": [
    "#question 3\n",
    "#time taken 5min\n",
    "def area_of_circle():\n",
    "    from math import sqrt\n",
    "    side=5\n",
    "    area_of_tri=int((side**2)*sqrt(3)/4)\n",
    "    r=2.25\n",
    "    from math import pi\n",
    "    theta=pi/3\n",
    "    s=r*theta\n",
    "    shaded_area=area_of_tri-s\n",
    "    print(\"The area of shaded triangle is:\" , shaded_area )\n",
    "area_of_circle()"
   ]
  },
  {
   "cell_type": "code",
   "execution_count": 59,
   "metadata": {},
   "outputs": [
    {
     "name": "stdout",
     "output_type": "stream",
     "text": [
      "Find any relation: Brother\n",
      "{'Brother': 'rayyan ahmed khan'}\n"
     ]
    }
   ],
   "source": [
    "#question 2\n",
    "#time taken 45 min\n",
    "def findrelation(f,m,b,s):\n",
    "    f={\"Father\": \"furqan ahmed khan\"}\n",
    "    m={\"Mother\": \"sabeen khan\"}\n",
    "    b={\"Brother\": \"rayyan ahmed khan\"}\n",
    "    s={\"Sisters\":\"haniah\"}\n",
    "    findrelation= (str(input(\"Find any relation: \")))\n",
    "    if findrelation in b:\n",
    "        print(b)\n",
    "    elif findrelation in f:\n",
    "        print(f)\n",
    "    elif findrelation in s:\n",
    "        print(s)\n",
    "    elif findrelation in m:   \n",
    "        print(m)\n",
    "    else:\n",
    "        print(\"“Sorry no relation in your family.”\")\n",
    "findrelation('f','m','b','s')"
   ]
  },
  {
   "cell_type": "code",
   "execution_count": 60,
   "metadata": {},
   "outputs": [
    {
     "name": "stdout",
     "output_type": "stream",
     "text": [
      "Enter a list of different numbers: 11,22,45,67,89,65,43,21\n"
     ]
    },
    {
     "ename": "AttributeError",
     "evalue": "'tuple' object has no attribute 'split'",
     "output_type": "error",
     "traceback": [
      "\u001b[1;31m---------------------------------------------------------------------------\u001b[0m",
      "\u001b[1;31mAttributeError\u001b[0m                            Traceback (most recent call last)",
      "\u001b[1;32m<ipython-input-60-d9d196d8ab32>\u001b[0m in \u001b[0;36m<module>\u001b[1;34m\u001b[0m\n\u001b[0;32m      4\u001b[0m     \u001b[0mnum\u001b[0m\u001b[1;33m=\u001b[0m\u001b[0mnum\u001b[0m\u001b[1;33m.\u001b[0m\u001b[0msplit\u001b[0m\u001b[1;33m(\u001b[0m\u001b[1;33m)\u001b[0m\u001b[1;33m\u001b[0m\u001b[1;33m\u001b[0m\u001b[0m\n\u001b[0;32m      5\u001b[0m     \u001b[0mprint\u001b[0m\u001b[1;33m(\u001b[0m\u001b[0mnum\u001b[0m\u001b[1;33m.\u001b[0m\u001b[0msort\u001b[0m\u001b[1;33m(\u001b[0m\u001b[1;33m)\u001b[0m\u001b[1;33m)\u001b[0m\u001b[1;33m\u001b[0m\u001b[1;33m\u001b[0m\u001b[0m\n\u001b[1;32m----> 6\u001b[1;33m \u001b[0mrandom_numb\u001b[0m\u001b[1;33m(\u001b[0m\u001b[1;33m)\u001b[0m\u001b[1;33m\u001b[0m\u001b[1;33m\u001b[0m\u001b[0m\n\u001b[0m",
      "\u001b[1;32m<ipython-input-60-d9d196d8ab32>\u001b[0m in \u001b[0;36mrandom_numb\u001b[1;34m()\u001b[0m\n\u001b[0;32m      2\u001b[0m \u001b[1;32mdef\u001b[0m \u001b[0mrandom_numb\u001b[0m\u001b[1;33m(\u001b[0m\u001b[1;33m)\u001b[0m\u001b[1;33m:\u001b[0m\u001b[1;33m\u001b[0m\u001b[1;33m\u001b[0m\u001b[0m\n\u001b[0;32m      3\u001b[0m     \u001b[0mnum\u001b[0m\u001b[1;33m=\u001b[0m\u001b[0meval\u001b[0m\u001b[1;33m(\u001b[0m\u001b[0minput\u001b[0m\u001b[1;33m(\u001b[0m\u001b[1;34m\"Enter a list of different numbers: \"\u001b[0m\u001b[1;33m)\u001b[0m\u001b[1;33m)\u001b[0m\u001b[1;33m\u001b[0m\u001b[1;33m\u001b[0m\u001b[0m\n\u001b[1;32m----> 4\u001b[1;33m     \u001b[0mnum\u001b[0m\u001b[1;33m=\u001b[0m\u001b[0mnum\u001b[0m\u001b[1;33m.\u001b[0m\u001b[0msplit\u001b[0m\u001b[1;33m(\u001b[0m\u001b[1;33m)\u001b[0m\u001b[1;33m\u001b[0m\u001b[1;33m\u001b[0m\u001b[0m\n\u001b[0m\u001b[0;32m      5\u001b[0m     \u001b[0mprint\u001b[0m\u001b[1;33m(\u001b[0m\u001b[0mnum\u001b[0m\u001b[1;33m.\u001b[0m\u001b[0msort\u001b[0m\u001b[1;33m(\u001b[0m\u001b[1;33m)\u001b[0m\u001b[1;33m)\u001b[0m\u001b[1;33m\u001b[0m\u001b[1;33m\u001b[0m\u001b[0m\n\u001b[0;32m      6\u001b[0m \u001b[0mrandom_numb\u001b[0m\u001b[1;33m(\u001b[0m\u001b[1;33m)\u001b[0m\u001b[1;33m\u001b[0m\u001b[1;33m\u001b[0m\u001b[0m\n",
      "\u001b[1;31mAttributeError\u001b[0m: 'tuple' object has no attribute 'split'"
     ]
    }
   ],
   "source": [
    "#question 5\n",
    "def random_numb():\n",
    "    num=eval(input(\"Enter a list of different numbers: \"))\n",
    "    num=num.split()\n",
    "    print(num.sort())\n",
    "random_numb()"
   ]
  },
  {
   "cell_type": "code",
   "execution_count": 61,
   "metadata": {},
   "outputs": [
    {
     "name": "stdout",
     "output_type": "stream",
     "text": [
      "Enter Radius of the Circle: 4\n",
      "The perimeter of the circle is: 25.132741228718345 \n",
      "The area of circle with 5% increment is:  50.31548245743669\n"
     ]
    }
   ],
   "source": [
    "#question 6\n",
    "#time taken 12min\n",
    "def area_of_circle():\n",
    "    import math\n",
    "    r=int(input(\"Enter Radius of the Circle: \"))\n",
    "    from math import pi\n",
    "    c=2*pi*r\n",
    "    area= (pi*r**2)+0.05\n",
    "    print(\"The perimeter of the circle is:\", c,\"\\nThe area of circle with 5% increment is: \", area)\n",
    "area_of_circle()\n",
    "    "
   ]
  },
  {
   "cell_type": "code",
   "execution_count": 62,
   "metadata": {},
   "outputs": [
    {
     "name": "stdout",
     "output_type": "stream",
     "text": [
      "Enter a sentence: brown fox jumping over a brown fence\n",
      "Total Number of Vowels in this String =  10\n",
      "Total Number of Consonants in this String =  26\n"
     ]
    }
   ],
   "source": [
    "#question 7\n",
    "#time taken 18 min\n",
    "def my_string():\n",
    "    string=str(input(\"Enter a sentence: \"))\n",
    "    string.split()\n",
    "    vowels = 0\n",
    "    consonants = 0\n",
    "    for i in string:\n",
    "        if(i == 'a' or i == 'e' or i == 'i' or i == 'o' or i == 'u'\n",
    "               or i == 'A' or i == 'E' or i == 'I' or i == 'O' or i == 'U'):\n",
    "            vowels = vowels + 1\n",
    "        else:\n",
    "            consonants = consonants + 1\n",
    " \n",
    "    print(\"Total Number of Vowels in this String = \", vowels)\n",
    "    print(\"Total Number of Consonants in this String = \", consonants)\n",
    "\n",
    "my_string()"
   ]
  },
  {
   "cell_type": "code",
   "execution_count": 63,
   "metadata": {},
   "outputs": [
    {
     "name": "stdout",
     "output_type": "stream",
     "text": [
      "Enter length of a rectangle: 6\n",
      "Enter breadth of a rectangle: 3\n",
      "The perimeter of the rectangle is: 18 \n",
      "The area of rectangle with 8% increment is:  18.08\n"
     ]
    }
   ],
   "source": [
    "#question 8\n",
    "def my_math():\n",
    "    l=int(input(\"Enter length of a rectangle: \"))\n",
    "    b=int(input(\"Enter breadth of a rectangle: \"))\n",
    "    peri=(l+b)*2\n",
    "    area= (l*b)+0.08\n",
    "    print(\"The perimeter of the rectangle is:\", peri,\"\\nThe area of rectangle with 8% increment is: \", area)\n",
    "my_math()"
   ]
  },
  {
   "cell_type": "code",
   "execution_count": 65,
   "metadata": {},
   "outputs": [
    {
     "name": "stdout",
     "output_type": "stream",
     "text": [
      "Enter Numbers: 25 , 26 , 27 ,28 ,29\n"
     ]
    },
    {
     "ename": "ValueError",
     "evalue": "invalid literal for int() with base 10: '25 , 26 , 27 ,28 ,29'",
     "output_type": "error",
     "traceback": [
      "\u001b[1;31m---------------------------------------------------------------------------\u001b[0m",
      "\u001b[1;31mValueError\u001b[0m                                Traceback (most recent call last)",
      "\u001b[1;32m<ipython-input-65-e78b11af0fe7>\u001b[0m in \u001b[0;36m<module>\u001b[1;34m\u001b[0m\n\u001b[0;32m      1\u001b[0m \u001b[1;31m#question 9\u001b[0m\u001b[1;33m\u001b[0m\u001b[1;33m\u001b[0m\u001b[1;33m\u001b[0m\u001b[0m\n\u001b[1;32m----> 2\u001b[1;33m \u001b[0mlst\u001b[0m\u001b[1;33m=\u001b[0m \u001b[0mint\u001b[0m\u001b[1;33m(\u001b[0m\u001b[0minput\u001b[0m\u001b[1;33m(\u001b[0m\u001b[1;34m\"Enter Numbers: \"\u001b[0m\u001b[1;33m)\u001b[0m\u001b[1;33m)\u001b[0m\u001b[1;33m\u001b[0m\u001b[1;33m\u001b[0m\u001b[0m\n\u001b[0m\u001b[0;32m      3\u001b[0m \u001b[1;32mdef\u001b[0m \u001b[0mevn_odd\u001b[0m\u001b[1;33m(\u001b[0m\u001b[0mlst\u001b[0m\u001b[1;33m)\u001b[0m\u001b[1;33m:\u001b[0m\u001b[1;33m\u001b[0m\u001b[1;33m\u001b[0m\u001b[0m\n\u001b[0;32m      4\u001b[0m \u001b[1;33m\u001b[0m\u001b[0m\n\u001b[0;32m      5\u001b[0m     \u001b[0meven\u001b[0m\u001b[1;33m=\u001b[0m\u001b[1;33m[\u001b[0m\u001b[1;33m]\u001b[0m\u001b[1;33m\u001b[0m\u001b[1;33m\u001b[0m\u001b[0m\n",
      "\u001b[1;31mValueError\u001b[0m: invalid literal for int() with base 10: '25 , 26 , 27 ,28 ,29'"
     ]
    }
   ],
   "source": [
    "#question 9\n",
    "#time taken 35 min\n",
    "lst= int(input(\"Enter Numbers: \"))\n",
    "def evn_odd(lst):\n",
    "    \n",
    "    even=[] \n",
    "    odd=[]\n",
    "            #= (input(\"Enter Numbers: \")) \n",
    "    lst.split()\n",
    "    even=0\n",
    "    odd = 0\n",
    "  # iterating each number in list \n",
    "    for i in lst: \n",
    "      # checking condition \n",
    "        if (i % 2 == 0): \n",
    "            even.append(i)\n",
    "  \n",
    "        else: \n",
    "            odd.append(i)\n",
    "          \n",
    "    print(\"Even numbers in the list: \", even) \n",
    "    print(\"Odd numbers in the list: \", odd)\n",
    "evn_odd()"
   ]
  },
  {
   "cell_type": "code",
   "execution_count": 67,
   "metadata": {},
   "outputs": [
    {
     "name": "stdout",
     "output_type": "stream",
     "text": [
      "Enter a sentence: ali likes to ride a bike\n"
     ]
    }
   ],
   "source": [
    "#question 10\n",
    "#time taken 16 min\n",
    "def my_string():\n",
    "    alpha=str(input(\"Enter a sentence: \"))\n",
    "    alpha_letters = 'abcdefghijklmnopqrstuvwxyzABCDEFGHIJKLMNOPQRSTUVWXYZ'\n",
    "    alpha_lowercase = 'abcdefghijklmnopqrstuvwxyz'\n",
    "    alpha_uppercase = 'ABCDEFGHIJKLMNOPQRSTUVWXYZ'\n",
    "    \n",
    "    if (alpha in alpha_letters or alpha in alpha_lowercase or alpha in alpha_uppercase):\n",
    "          print(len(alpha)+ \"The number of missing alphabets are:\")\n",
    "my_string()\n"
   ]
  },
  {
   "cell_type": "code",
   "execution_count": null,
   "metadata": {},
   "outputs": [],
   "source": []
  }
 ],
 "metadata": {
  "kernelspec": {
   "display_name": "Python 3",
   "language": "python",
   "name": "python3"
  },
  "language_info": {
   "codemirror_mode": {
    "name": "ipython",
    "version": 3
   },
   "file_extension": ".py",
   "mimetype": "text/x-python",
   "name": "python",
   "nbconvert_exporter": "python",
   "pygments_lexer": "ipython3",
   "version": "3.7.3"
  }
 },
 "nbformat": 4,
 "nbformat_minor": 2
}
