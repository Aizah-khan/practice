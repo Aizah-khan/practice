{
 "cells": [
  {
   "cell_type": "code",
   "execution_count": null,
   "metadata": {},
   "outputs": [],
   "source": [
    "# Practice Sheet 1 - Python Programming"
   ]
  },
  {
   "cell_type": "markdown",
   "metadata": {},
   "source": [
    "Asst. Prof. Syed Faisal Ali              $\\;\\;\\;\\;\\;\\;$              Programming Fundamentals - FALL 2019 $\\;\\;\\;\\;\\;\\;$ Software Engineering                     $\\;\\;\\;\\;\\;\\;$                   Dated: 7 Nov 2019"
   ]
  },
  {
   "cell_type": "markdown",
   "metadata": {},
   "source": [
    "Q1: Show how we can import 10 differnt functions from math library of python, such as trignometric or hyperbolic functions and two constants pi and e, and store 6 different angles such as zero, thirty, forty five, sixty, ninty and one hundred and eighty. Show them how you will use in program by giving them some values and print them."
   ]
  },
  {
   "cell_type": "code",
   "execution_count": null,
   "metadata": {},
   "outputs": [],
   "source": []
  },
  {
   "cell_type": "markdown",
   "metadata": {},
   "source": [
    "Q2. Use help() command to show what is math library, int, and class."
   ]
  },
  {
   "cell_type": "code",
   "execution_count": null,
   "metadata": {},
   "outputs": [],
   "source": []
  },
  {
   "cell_type": "markdown",
   "metadata": {},
   "source": [
    "Q3. Use len() function to show the lenght of your name stored in a variable my_name."
   ]
  },
  {
   "cell_type": "code",
   "execution_count": null,
   "metadata": {},
   "outputs": [],
   "source": []
  },
  {
   "cell_type": "markdown",
   "metadata": {},
   "source": [
    "Q4: We use type() function to show the type of the variable. Your task is to use it on different type of variables in which you save your name, date of birth, cell number, email, favourite dish, favourite color, favourite movie, favourite flower, etc."
   ]
  },
  {
   "cell_type": "code",
   "execution_count": null,
   "metadata": {},
   "outputs": [],
   "source": []
  },
  {
   "cell_type": "markdown",
   "metadata": {},
   "source": [
    "Q5: A football is kicked 1 meter from the ground at an angle of 30 degree with a velocity of 15 m/sec. \n",
    "<br>Calculate the following:\n",
    "<br>a. Max height above the ground.\n",
    "<br>b. Total time in the air.\n",
    "<br>c. Total distance traveled.\n",
    "<br>d. Velocity vector at max height.\n",
    "<br>e. Velocity when the ball hits the ground."
   ]
  },
  {
   "cell_type": "markdown",
   "metadata": {},
   "source": [
    "![proj](proj.jpg)\n",
    "\n"
   ]
  },
  {
   "cell_type": "code",
   "execution_count": null,
   "metadata": {},
   "outputs": [],
   "source": []
  },
  {
   "cell_type": "markdown",
   "metadata": {},
   "source": [
    "Q6: A mass of 5 kg is placed in an inclined plane. If 10 N force applied on it and the friction on the inclined plane is 0.4. Find, Sin, Cos and its movement for angle 30, 45 and 60 degrees ?"
   ]
  },
  {
   "cell_type": "code",
   "execution_count": null,
   "metadata": {},
   "outputs": [],
   "source": []
  },
  {
   "cell_type": "markdown",
   "metadata": {},
   "source": [
    "![mass](mass.png)\n"
   ]
  },
  {
   "cell_type": "code",
   "execution_count": null,
   "metadata": {},
   "outputs": [],
   "source": []
  },
  {
   "cell_type": "markdown",
   "metadata": {},
   "source": [
    "Q7: Three resiters of 10, 20 and 30 ohms are connected in series and in parallel if 10 V is given to them find current and voltages across them."
   ]
  },
  {
   "cell_type": "code",
   "execution_count": null,
   "metadata": {},
   "outputs": [],
   "source": []
  },
  {
   "cell_type": "markdown",
   "metadata": {},
   "source": [
    "Q8. Find the point of intercept if line 1 coordinates are (1,5), (7, 9) and line 2 coordinates are (2,4) (6,9)."
   ]
  },
  {
   "cell_type": "code",
   "execution_count": null,
   "metadata": {},
   "outputs": [],
   "source": []
  },
  {
   "cell_type": "markdown",
   "metadata": {},
   "source": [
    "Q9: Write a small program which have unit price of 10 items such as eggs Rs 120 dozen, milk Rs 95 liter, butter 100 Rs for 125 gms, etc Now ask from the user one by one what he wants and how many he wants. Then do the total amount of purchase."
   ]
  },
  {
   "cell_type": "code",
   "execution_count": null,
   "metadata": {},
   "outputs": [],
   "source": []
  },
  {
   "cell_type": "markdown",
   "metadata": {},
   "source": [
    "Q10: A 5m 60cm high vertical pole casts a shadow 3m 20 cm long. Find at the same time \n",
    "<br>(i) the length of the shadow cast another pole 10m 50cm high \n",
    "<br>(ii) the height of a pole which casts a shadow 5m long."
   ]
  },
  {
   "cell_type": "code",
   "execution_count": null,
   "metadata": {},
   "outputs": [],
   "source": []
  },
  {
   "cell_type": "markdown",
   "metadata": {},
   "source": [
    "This code seems to work for me now <img src=\"mass.png\" />"
   ]
  },
  {
   "cell_type": "markdown",
   "metadata": {},
   "source": []
  }
 ],
 "metadata": {
  "kernelspec": {
   "display_name": "Python 3",
   "language": "python",
   "name": "python3"
  },
  "language_info": {
   "codemirror_mode": {
    "name": "ipython",
    "version": 3
   },
   "file_extension": ".py",
   "mimetype": "text/x-python",
   "name": "python",
   "nbconvert_exporter": "python",
   "pygments_lexer": "ipython3",
   "version": "3.7.3"
  }
 },
 "nbformat": 4,
 "nbformat_minor": 2
}
